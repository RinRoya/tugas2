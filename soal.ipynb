{
 "cells": [
  {
   "cell_type": "markdown",
   "metadata": {},
   "source": [
    "# TUGAS 2 ASISTENSI ALPRO - Sabtu , 04 Mei 2019\n",
    "NAMA:   \n",
    "\n",
    "NRP:    \n",
    "\n",
    "\n",
    "## DESKRIPSI SOAL\n",
    "Buatlah suatu program dengan menggunakan GUI untuk mengaproksimasi nilai $f(x)$ dengan $n$ angka penting.\n",
    "\n",
    "## METODE PENYELESAIAN\n",
    "Metode numerik adalah suatu metode untuk mencari nilai fungsi yang relatif rumit secara eksak. Biasanya, untuk melakukan aproksimasi digunakan cara rekursif sebanyak bilangan asli tertentu (berhingga).\n",
    "\n",
    " Didefinisikan suatu error dari perhitungan aproksimasi nilai $f(x)$ adalah sebagai \n",
    "\n",
    "$\\varepsilon_{a}=\\dfrac{f_i-f_{i-1}}{f_{i}}\\times100\\%$\n",
    "\n",
    "dimana $\\varepsilon_a$ menyatakan persentase error aproksimasi relatif dan $f_i$ menyatakan nilai aproksimasi pada saat ke $i$.\n",
    "\n",
    "Nilai $\\varepsilon_a$ dikatakan benar sampai suatu toleransi $\\varepsilon_s$ dengan $n$ angka penting jika $|\\varepsilon_a|<\\varepsilon_s=(0.5\\times10^{2-n})\\%$\n",
    "\n",
    "Kemudian, cara termudah mengaproksimasi suatu nilai fungsi adalah dengan melakukan penderetan Taylor.\n",
    "\n",
    "Suatu fungsi $f(x)$ yang terdiferensiabel memiliki bentuk deret pada persekitaran titik $x=a$, dimana\n",
    "\n",
    "$f(x)=\\displaystyle\\sum_{n=0}^\\infty \\dfrac{f^{(n)}(a)}{n!}(x-a)^n$\n",
    "\n",
    "untuk $|x-a|<R$\n",
    "\n",
    "Bila $a=0$, maka deret diatas disebut deret Maclaurin.\n",
    "\n",
    "## SOAL\n",
    "Pilih 3 nomor dan dapatkan aproksimasinya dari : \n",
    "\n",
    "1. $f(x)=e^{x^2}$ \n",
    "2. $f(x)=\\sin(2x)$\n",
    "3. $f(x)=\\cosh(-6x)$\n",
    "4. $f(x)=\\ln(-x)$\n",
    "5. $f(x)=\\dfrac{x}{1-x}$\n",
    "6. $f(x)=x^2\\arctan(x)$\n",
    "7. $f(x)=xe^{2x}$\n",
    "\n",
    "untuk suatu input $x$, $a$ dan $n$.\n",
    "\n",
    "## UPLOAD \n",
    "silahkan upload file solusi dengan nama `NAMA_TUGAS2.java` \n"
   ]
  }
 ],
 "metadata": {
  "kernelspec": {
   "display_name": "Python 3",
   "language": "python",
   "name": "python3"
  },
  "language_info": {
   "codemirror_mode": {
    "name": "ipython",
    "version": 3
   },
   "file_extension": ".py",
   "mimetype": "text/x-python",
   "name": "python",
   "nbconvert_exporter": "python",
   "pygments_lexer": "ipython3",
   "version": "3.7.1"
  }
 },
 "nbformat": 4,
 "nbformat_minor": 2
}
